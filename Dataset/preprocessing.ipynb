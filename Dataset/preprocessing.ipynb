{
 "cells": [
  {
   "cell_type": "code",
   "execution_count": 1,
   "metadata": {},
   "outputs": [],
   "source": [
    "import numpy as np\n",
    "import pandas as pd\n",
    "import matplotlib.pyplot as plt\n",
    "import re"
   ]
  },
  {
   "cell_type": "code",
   "execution_count": 2,
   "metadata": {},
   "outputs": [
    {
     "name": "stdout",
     "output_type": "stream",
     "text": [
      "2253\n",
      "3909\n",
      "2528\n",
      "['Unnamed: 0' 'Job Title' 'Salary Estimate' 'Job Description' 'Rating'\n",
      " 'Company Name' 'Location' 'Headquarters' 'Size' 'Founded'\n",
      " 'Type of ownership' 'Industry' 'Sector' 'Revenue' 'Competitors'\n",
      " 'Easy Apply']\n",
      "['Unnamed: 0' 'index' 'Job Title' 'Salary Estimate' 'Job Description'\n",
      " 'Rating' 'Company Name' 'Location' 'Headquarters' 'Size' 'Founded'\n",
      " 'Type of ownership' 'Industry' 'Sector' 'Revenue' 'Competitors'\n",
      " 'Easy Apply']\n",
      "['Job Title' 'Salary Estimate' 'Job Description' 'Rating' 'Company Name'\n",
      " 'Location' 'Headquarters' 'Size' 'Founded' 'Type of ownership' 'Industry'\n",
      " 'Sector' 'Revenue' 'Competitors' 'Easy Apply']\n"
     ]
    }
   ],
   "source": [
    "data_analyst = pd.read_csv(\"DataAnalyst.csv\")\n",
    "data_scientist = pd.read_csv(\"DataScientist.csv\")\n",
    "data_engineer = pd.read_csv(\"DataEngineer.csv\")\n",
    "print(len(data_analyst))\n",
    "print(len(data_scientist))\n",
    "print(len(data_engineer))\n",
    "print(data_analyst.columns.values)\n",
    "print(data_scientist.columns.values)\n",
    "print(data_engineer.columns.values)"
   ]
  },
  {
   "cell_type": "code",
   "execution_count": 3,
   "metadata": {},
   "outputs": [],
   "source": [
    "# extract skills from job description \n",
    "skills = [\"python\",\"c++\",\"java\",\"matlab\",\".net\",\"c#\",\"javascript\",\"html\",\"bash\", \"sql\",\"nosql\",\"hadoop\",\"spark\",\"impala\",\"cassandra\",\"kafka\",\"hdfs\",\"hbase\",\"hive\",\"r\",\"spss\",\"stata\",\"excel\",\"tableau\"]\n",
    "\n",
    "data = data_analyst\n",
    "job = data[\"Job Description\"]\n",
    "value = []\n",
    "for i in range(len(job)):\n",
    "    skill = []\n",
    "    jd = job[i]\n",
    "    jd = re.split(r'\\W+', jd)\n",
    "    jd = [word.lower() for word in jd if len(word) > 0]\n",
    "    for word in jd:\n",
    "        if word in skills:\n",
    "            skill.append(word)\n",
    "    value.append(list(set(skill)))\n",
    "    \n",
    "data_analyst[\"Skills\"] = pd.Series(value).apply(' '.join)\n",
    "\n",
    "# print(data[\"Skills\"])\n",
    "\n",
    "\n",
    "data = data_scientist\n",
    "job = data[\"Job Description\"]\n",
    "value = []\n",
    "for i in range(len(job)):\n",
    "    skill = []\n",
    "    jd = job[i]\n",
    "    jd = re.split(r'\\W+', jd)\n",
    "    jd = [word.lower() for word in jd if len(word) > 0]\n",
    "    for word in jd:\n",
    "        if word in skills:\n",
    "            skill.append(word)\n",
    "    value.append(list(set(skill)))\n",
    "    \n",
    "data_scientist[\"Skills\"] = pd.Series(value).apply(' '.join)\n",
    "\n",
    "\n",
    "\n",
    "data = data_engineer\n",
    "job = data[\"Job Description\"]\n",
    "value = []\n",
    "for i in range(len(job)):\n",
    "    skill = []\n",
    "    jd = job[i]\n",
    "    jd = re.split(r'\\W+', jd)\n",
    "    jd = [word.lower() for word in jd if len(word) > 0]\n",
    "    for word in jd:\n",
    "        if word in skills:\n",
    "            skill.append(word)\n",
    "    value.append(list(set(skill)))\n",
    "    \n",
    "data_engineer[\"Skills\"] = pd.Series(value).apply(' '.join)\n"
   ]
  },
  {
   "cell_type": "code",
   "execution_count": 4,
   "metadata": {},
   "outputs": [],
   "source": [
    "data_scientist.drop(['index'], axis=1, inplace=True)"
   ]
  },
  {
   "cell_type": "code",
   "execution_count": 5,
   "metadata": {},
   "outputs": [],
   "source": [
    "data_analyst['General Title'] = \"data analyst\"\n",
    "data_scientist['General Title'] = \"data scientist\"\n",
    "data_engineer['General Title'] = \"data engineer\""
   ]
  },
  {
   "cell_type": "code",
   "execution_count": 6,
   "metadata": {},
   "outputs": [
    {
     "name": "stdout",
     "output_type": "stream",
     "text": [
      "<class 'numpy.ndarray'>\n"
     ]
    }
   ],
   "source": [
    "data = pd.concat([data_analyst, data_scientist, data_engineer])\n",
    "data.drop(['Unnamed: 0'], axis=1,inplace=True)\n",
    "# print(len(data))\n",
    "# print(data[:5])\n",
    "print(type(data[\"Skills\"].values.astype(str)))"
   ]
  },
  {
   "cell_type": "code",
   "execution_count": 7,
   "metadata": {},
   "outputs": [
    {
     "data": {
      "text/html": [
       "<div>\n",
       "<style scoped>\n",
       "    .dataframe tbody tr th:only-of-type {\n",
       "        vertical-align: middle;\n",
       "    }\n",
       "\n",
       "    .dataframe tbody tr th {\n",
       "        vertical-align: top;\n",
       "    }\n",
       "\n",
       "    .dataframe thead th {\n",
       "        text-align: right;\n",
       "    }\n",
       "</style>\n",
       "<table border=\"1\" class=\"dataframe\">\n",
       "  <thead>\n",
       "    <tr style=\"text-align: right;\">\n",
       "      <th></th>\n",
       "      <th>Missing Values</th>\n",
       "      <th>% of Total Values</th>\n",
       "    </tr>\n",
       "  </thead>\n",
       "  <tbody>\n",
       "    <tr>\n",
       "      <th>Easy Apply</th>\n",
       "      <td>8300</td>\n",
       "      <td>95.5</td>\n",
       "    </tr>\n",
       "    <tr>\n",
       "      <th>Competitors</th>\n",
       "      <td>6241</td>\n",
       "      <td>71.8</td>\n",
       "    </tr>\n",
       "    <tr>\n",
       "      <th>Revenue</th>\n",
       "      <td>3003</td>\n",
       "      <td>34.6</td>\n",
       "    </tr>\n",
       "    <tr>\n",
       "      <th>Founded</th>\n",
       "      <td>2208</td>\n",
       "      <td>25.4</td>\n",
       "    </tr>\n",
       "    <tr>\n",
       "      <th>Industry</th>\n",
       "      <td>1277</td>\n",
       "      <td>14.7</td>\n",
       "    </tr>\n",
       "    <tr>\n",
       "      <th>Sector</th>\n",
       "      <td>1274</td>\n",
       "      <td>14.7</td>\n",
       "    </tr>\n",
       "    <tr>\n",
       "      <th>Rating</th>\n",
       "      <td>915</td>\n",
       "      <td>10.5</td>\n",
       "    </tr>\n",
       "    <tr>\n",
       "      <th>Size</th>\n",
       "      <td>693</td>\n",
       "      <td>8.0</td>\n",
       "    </tr>\n",
       "    <tr>\n",
       "      <th>Type of ownership</th>\n",
       "      <td>595</td>\n",
       "      <td>6.8</td>\n",
       "    </tr>\n",
       "    <tr>\n",
       "      <th>Headquarters</th>\n",
       "      <td>536</td>\n",
       "      <td>6.2</td>\n",
       "    </tr>\n",
       "    <tr>\n",
       "      <th>Salary Estimate</th>\n",
       "      <td>1</td>\n",
       "      <td>0.0</td>\n",
       "    </tr>\n",
       "    <tr>\n",
       "      <th>Company Name</th>\n",
       "      <td>1</td>\n",
       "      <td>0.0</td>\n",
       "    </tr>\n",
       "  </tbody>\n",
       "</table>\n",
       "</div>"
      ],
      "text/plain": [
       "                   Missing Values  % of Total Values\n",
       "Easy Apply                   8300               95.5\n",
       "Competitors                  6241               71.8\n",
       "Revenue                      3003               34.6\n",
       "Founded                      2208               25.4\n",
       "Industry                     1277               14.7\n",
       "Sector                       1274               14.7\n",
       "Rating                        915               10.5\n",
       "Size                          693                8.0\n",
       "Type of ownership             595                6.8\n",
       "Headquarters                  536                6.2\n",
       "Salary Estimate                 1                0.0\n",
       "Company Name                    1                0.0"
      ]
     },
     "execution_count": 7,
     "metadata": {},
     "output_type": "execute_result"
    }
   ],
   "source": [
    "# missing value\n",
    "data=data.replace(-1,np.nan)\n",
    "data=data.replace(-1.0,np.nan)\n",
    "data=data.replace('-1',np.nan)\n",
    "data=data.replace('Unknown',np.nan)\n",
    "data=data.replace('Unknown / Non-Applicable',np.nan)\n",
    "\n",
    "def missing_values_table(df):\n",
    "        # Total missing values\n",
    "        mis_val = df.isnull().sum()\n",
    "        \n",
    "        # Percentage of missing values\n",
    "        mis_val_percent = 100 * df.isnull().sum() / len(df)\n",
    "        \n",
    "        # Make a table with the results\n",
    "        mis_val_table = pd.concat([mis_val, mis_val_percent], axis=1)\n",
    "        \n",
    "        # Rename the columns\n",
    "        mis_val_table_ren_columns = mis_val_table.rename(\n",
    "        columns = {0 : 'Missing Values', 1 : '% of Total Values'})\n",
    "        \n",
    "        # Sort the table by percentage of missing descending\n",
    "        mis_val_table_ren_columns = mis_val_table_ren_columns[\n",
    "            mis_val_table_ren_columns.iloc[:,1] != 0].sort_values(\n",
    "        '% of Total Values', ascending=False).round(1)\n",
    "        \n",
    "        # Return the dataframe with missing information\n",
    "        return mis_val_table_ren_columns\n",
    "missing_values_table(data)"
   ]
  },
  {
   "cell_type": "code",
   "execution_count": 8,
   "metadata": {},
   "outputs": [
    {
     "name": "stdout",
     "output_type": "stream",
     "text": [
      "Data Engineer                                                                           729\n",
      "Data Analyst                                                                            656\n",
      "Data Scientist                                                                          282\n",
      "Senior Data Engineer                                                                    140\n",
      "Senior Data Analyst                                                                     137\n",
      "                                                                                       ... \n",
      "Associate Scientist R&D                                                                   1\n",
      "Scientist II, DMPK (Biotransformation)                                                    1\n",
      "Senior Data Scientist / Artificial Intelligence / Machine Learning / AI/ML Scientist      1\n",
      "Associate Scientist - PCR                                                                 1\n",
      "Data Analyst with Python or Python developer                                              1\n",
      "Name: Job Title, Length: 3973, dtype: int64\n"
     ]
    }
   ],
   "source": [
    "title = data['Job Title']\n",
    "general_title = data['General Title']\n",
    "print(title.value_counts())"
   ]
  },
  {
   "cell_type": "code",
   "execution_count": 9,
   "metadata": {},
   "outputs": [
    {
     "name": "stdout",
     "output_type": "stream",
     "text": [
      "10000+ employees           1925\n",
      "51 to 200 employees        1373\n",
      "1001 to 5000 employees     1286\n",
      "1 to 50 employees          1260\n",
      "201 to 500 employees        939\n",
      "501 to 1000 employees       765\n",
      "5001 to 10000 employees     449\n",
      "Name: Size, dtype: int64\n"
     ]
    }
   ],
   "source": [
    "size = data['Size']\n",
    "print(size.value_counts())"
   ]
  },
  {
   "cell_type": "code",
   "execution_count": 10,
   "metadata": {},
   "outputs": [
    {
     "name": "stdout",
     "output_type": "stream",
     "text": [
      "$10+ billion (USD)                  1181\n",
      "$100 to $500 million (USD)           830\n",
      "$50 to $100 million (USD)            563\n",
      "$2 to $5 billion (USD)               475\n",
      "$10 to $25 million (USD)             454\n",
      "$1 to $5 million (USD)               385\n",
      "$25 to $50 million (USD)             373\n",
      "$1 to $2 billion (USD)               344\n",
      "Less than $1 million (USD)           299\n",
      "$5 to $10 billion (USD)              287\n",
      "$500 million to $1 billion (USD)     261\n",
      "$5 to $10 million (USD)              235\n",
      "Name: Revenue, dtype: int64\n"
     ]
    }
   ],
   "source": [
    "revenue = data['Revenue']\n",
    "print(revenue.value_counts())"
   ]
  },
  {
   "cell_type": "code",
   "execution_count": 11,
   "metadata": {},
   "outputs": [
    {
     "name": "stdout",
     "output_type": "stream",
     "text": [
      "$93K-$151K     62\n",
      "$94K-$166K     62\n",
      "$60K-$109K     62\n",
      "$60K-$124K     62\n",
      "$113K-$180K    61\n",
      "               ..\n",
      "$146K-$175K     3\n",
      "$43K-$77K       3\n",
      "$10-$26         3\n",
      "$57K-$70K       2\n",
      "$41K-$74K       1\n",
      "Name: Salary Estimate, Length: 317, dtype: int64\n"
     ]
    },
    {
     "name": "stderr",
     "output_type": "stream",
     "text": [
      "<ipython-input-11-af686ab0ea23>:6: FutureWarning: Columnar iteration over characters will be deprecated in future releases.\n",
      "  data['Salary Estimate'],_=data['Salary Estimate'].str.split(' ', 1).str\n",
      "<ipython-input-11-af686ab0ea23>:8: FutureWarning: Columnar iteration over characters will be deprecated in future releases.\n",
      "  data['Min_Salary'],data['Max_Salary']=data['Salary Estimate'].str.split('-').str\n"
     ]
    }
   ],
   "source": [
    "# salary = data['Salary Estimate']\n",
    "# print(salary.value_counts())\n",
    "\n",
    "# min max salary\n",
    "data['Salary Estimate'] = data['Salary Estimate'].str.replace('(', ' ')\n",
    "data['Salary Estimate'],_=data['Salary Estimate'].str.split(' ', 1).str\n",
    "print(data['Salary Estimate'].value_counts())\n",
    "data['Min_Salary'],data['Max_Salary']=data['Salary Estimate'].str.split('-').str\n",
    "data['Min_Salary']=data['Min_Salary'].str.strip(' ').str.lstrip('$').str.rstrip('K').fillna(0).astype('int')\n",
    "data['Max_Salary']=data['Max_Salary'].str.strip(' ').str.lstrip('$').str.rstrip('K').fillna(0).astype('int')"
   ]
  },
  {
   "cell_type": "code",
   "execution_count": 12,
   "metadata": {},
   "outputs": [],
   "source": [
    "# average salary\n",
    "data['Avg_Salary'] = (data['Min_Salary']+data['Max_Salary'])/2"
   ]
  },
  {
   "cell_type": "code",
   "execution_count": 13,
   "metadata": {},
   "outputs": [
    {
     "name": "stdout",
     "output_type": "stream",
     "text": [
      "the mean of rating is 3.7832668810289367\n",
      "the variance of rating is 0.39968527604140447\n"
     ]
    }
   ],
   "source": [
    "rating = data['Rating']\n",
    "print(\"the mean of rating is\", np.mean(rating))\n",
    "print(\"the variance of rating is\",np.var(rating))"
   ]
  },
  {
   "cell_type": "code",
   "execution_count": 14,
   "metadata": {},
   "outputs": [
    {
     "name": "stdout",
     "output_type": "stream",
     "text": [
      "Company - Private                 4598\n",
      "Company - Public                  2320\n",
      "Nonprofit Organization             379\n",
      "Subsidiary or Business Segment     375\n",
      "Government                         149\n",
      "College / University               124\n",
      "Hospital                            38\n",
      "Contract                            38\n",
      "Private Practice / Firm             27\n",
      "Other Organization                  22\n",
      "School / School District            15\n",
      "Self-employed                        7\n",
      "Franchise                            3\n",
      "Name: Type of ownership, dtype: int64\n"
     ]
    }
   ],
   "source": [
    "ownership = data['Type of ownership']\n",
    "print(ownership.value_counts())"
   ]
  },
  {
   "cell_type": "code",
   "execution_count": 15,
   "metadata": {},
   "outputs": [
    {
     "name": "stdout",
     "output_type": "stream",
     "text": [
      "IT Services                         1152\n",
      "Staffing & Outsourcing               838\n",
      "Computer Hardware & Software         619\n",
      "Internet                             448\n",
      "Health Care Services & Hospitals     399\n",
      "                                    ... \n",
      "Museums, Zoos & Amusement Parks        1\n",
      "Commercial Equipment Rental            1\n",
      "Self-Storage Services                  1\n",
      "Shipping                               1\n",
      "Religious Organizations                1\n",
      "Name: Industry, Length: 108, dtype: int64\n"
     ]
    }
   ],
   "source": [
    "industry = data['Industry']\n",
    "print(industry.value_counts())"
   ]
  },
  {
   "cell_type": "code",
   "execution_count": 16,
   "metadata": {},
   "outputs": [
    {
     "name": "stdout",
     "output_type": "stream",
     "text": [
      "Information Technology                2584\n",
      "Business Services                     1619\n",
      "Finance                                616\n",
      "Health Care                            399\n",
      "Biotech & Pharmaceuticals              361\n",
      "Insurance                              242\n",
      "Manufacturing                          220\n",
      "Education                              181\n",
      "Media                                  169\n",
      "Aerospace & Defense                    153\n",
      "Retail                                 146\n",
      "Government                             142\n",
      "Accounting & Legal                     141\n",
      "Oil, Gas, Energy & Utilities            84\n",
      "Telecommunications                      64\n",
      "Transportation & Logistics              60\n",
      "Consumer Services                       47\n",
      "Non-Profit                              46\n",
      "Real Estate                             40\n",
      "Construction, Repair & Maintenance      39\n",
      "Restaurants, Bars & Food Services       24\n",
      "Arts, Entertainment & Recreation        22\n",
      "Travel & Tourism                         9\n",
      "Agriculture & Forestry                   6\n",
      "Mining & Metals                          2\n",
      "Name: Sector, dtype: int64\n"
     ]
    }
   ],
   "source": [
    "sector = data['Sector']\n",
    "print(sector.value_counts())"
   ]
  },
  {
   "cell_type": "code",
   "execution_count": 17,
   "metadata": {},
   "outputs": [
    {
     "name": "stdout",
     "output_type": "stream",
     "text": [
      "True    390\n",
      "Name: Easy Apply, dtype: int64\n"
     ]
    }
   ],
   "source": [
    "apply = data['Easy Apply']\n",
    "print(apply.value_counts())"
   ]
  },
  {
   "cell_type": "code",
   "execution_count": 19,
   "metadata": {},
   "outputs": [
    {
     "name": "stdout",
     "output_type": "stream",
     "text": [
      "Google, Microsoft, Samsung Electronics                                                    88\n",
      "Google, Microsoft, Walmart                                                                78\n",
      "Amazon, Accenture, Microsoft                                                              68\n",
      "Cigna, Aetna, UnitedHealth Group                                                          36\n",
      "Google, Microsoft, Apple                                                                  33\n",
      "                                                                                          ..\n",
      "Atlantic Health System, Robert Wood Johnson University Hospital, Solaris Health System     1\n",
      "Blizzard Entertainment, Electronic Arts, Riot Games                                        1\n",
      "JBS USA Holdings, Tyson Foods, Hormel                                                      1\n",
      "Munich Re                                                                                  1\n",
      "Berkshire Hathaway, Progressive Insurance, Allstate                                        1\n",
      "Name: Competitors, Length: 676, dtype: int64\n"
     ]
    }
   ],
   "source": [
    "competitor = data['Competitors']\n",
    "print(competitor.value_counts())"
   ]
  },
  {
   "cell_type": "code",
   "execution_count": 20,
   "metadata": {},
   "outputs": [],
   "source": [
    "location = data['Location']\n",
    "HQ = data['Headquarters']\n",
    "data['Location_State/Country'] = data['Location'].apply(lambda x: x.split(',')[1].strip())\n",
    "data['Location_City'] = data['Location'].apply(lambda x: x.split(',')[0].strip())"
   ]
  },
  {
   "cell_type": "code",
   "execution_count": 21,
   "metadata": {},
   "outputs": [
    {
     "name": "stdout",
     "output_type": "stream",
     "text": [
      "0       1961\n",
      "1       1893\n",
      "2       2003\n",
      "3       2002\n",
      "4       2009\n",
      "        ... \n",
      "2523    <NA>\n",
      "2524    1993\n",
      "2525    <NA>\n",
      "2526    <NA>\n",
      "2527    2000\n",
      "Name: Founded, Length: 8690, dtype: Int32\n"
     ]
    }
   ],
   "source": [
    "data['Founded'] = data['Founded'].astype(pd.Int32Dtype())\n",
    "year = data['Founded']\n",
    "print(year)"
   ]
  },
  {
   "cell_type": "code",
   "execution_count": 22,
   "metadata": {},
   "outputs": [
    {
     "name": "stdout",
     "output_type": "stream",
     "text": [
      "                                           Job Title  \\\n",
      "0  Data Analyst, Center on Immigration and Justic...   \n",
      "\n",
      "                                     Job Description  Rating  \\\n",
      "0  Are you eager to roll up your sleeves and harn...     3.2   \n",
      "\n",
      "                     Company Name  Headquarters                  Size  \\\n",
      "0  Vera Institute of Justice\\n3.2  New York, NY  201 to 500 employees   \n",
      "\n",
      "   Founded       Type of ownership           Industry      Sector  \\\n",
      "0     1961  Nonprofit Organization  Social Assistance  Non-Profit   \n",
      "\n",
      "                      Revenue Competitors Easy Apply        Skills  \\\n",
      "0  $100 to $500 million (USD)         NaN       True  r sql python   \n",
      "\n",
      "  General Title  Min_Salary  Max_Salary  Avg_Salary Location_State/Country  \\\n",
      "0  data analyst          37          66        51.5                     NY   \n",
      "\n",
      "  Location_City  \n",
      "0      New York  \n"
     ]
    }
   ],
   "source": [
    "# drop useless columns\n",
    "data = data.drop(columns=['Salary Estimate', 'Location'])\n",
    "print(data[:1])"
   ]
  },
  {
   "cell_type": "code",
   "execution_count": 23,
   "metadata": {},
   "outputs": [],
   "source": [
    "data.to_excel('cleaned_data.xlsx')"
   ]
  },
  {
   "cell_type": "code",
   "execution_count": 24,
   "metadata": {},
   "outputs": [],
   "source": [
    "cleaned_data = pd.read_excel('cleaned_data.xlsx')\n",
    "cleaned_analyst = cleaned_data[cleaned_data['General Title']=='data analyst']\n",
    "cleaned_analyst.to_excel('cleaned_analyst.xlsx')\n",
    "cleaned_scientist = cleaned_data[cleaned_data['General Title']=='data scientist']\n",
    "cleaned_scientist.to_excel('cleaned_scientist.xlsx')\n",
    "cleaned_engineer = cleaned_data[cleaned_data['General Title']=='data engineer']\n",
    "cleaned_engineer.to_excel('cleaned_engineer.xlsx')"
   ]
  }
 ],
 "metadata": {
  "kernelspec": {
   "display_name": "Python 3",
   "language": "python",
   "name": "python3"
  },
  "language_info": {
   "codemirror_mode": {
    "name": "ipython",
    "version": 3
   },
   "file_extension": ".py",
   "mimetype": "text/x-python",
   "name": "python",
   "nbconvert_exporter": "python",
   "pygments_lexer": "ipython3",
   "version": "3.8.3"
  }
 },
 "nbformat": 4,
 "nbformat_minor": 4
}
